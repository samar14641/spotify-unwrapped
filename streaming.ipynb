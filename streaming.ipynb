{
 "cells": [
  {
   "cell_type": "markdown",
   "metadata": {},
   "source": [
    "#### Import modules:"
   ]
  },
  {
   "cell_type": "code",
   "execution_count": 1,
   "metadata": {},
   "outputs": [],
   "source": [
    "import matplotlib.pyplot as plt\n",
    "import numpy as np\n",
    "import pandas as pd"
   ]
  },
  {
   "cell_type": "markdown",
   "metadata": {},
   "source": [
    "#### Read data:"
   ]
  },
  {
   "cell_type": "code",
   "execution_count": 4,
   "metadata": {},
   "outputs": [],
   "source": [
    "df = pd.read_json('./MyData/StreamingHistory0.json', orient = 'records').append(pd.read_json('./MyData/StreamingHistory1.json', orient = 'records'))"
   ]
  },
  {
   "cell_type": "code",
   "execution_count": 6,
   "metadata": {},
   "outputs": [
    {
     "data": {
      "text/html": [
       "<div>\n",
       "<style scoped>\n",
       "    .dataframe tbody tr th:only-of-type {\n",
       "        vertical-align: middle;\n",
       "    }\n",
       "\n",
       "    .dataframe tbody tr th {\n",
       "        vertical-align: top;\n",
       "    }\n",
       "\n",
       "    .dataframe thead th {\n",
       "        text-align: right;\n",
       "    }\n",
       "</style>\n",
       "<table border=\"1\" class=\"dataframe\">\n",
       "  <thead>\n",
       "    <tr style=\"text-align: right;\">\n",
       "      <th></th>\n",
       "      <th>endTime</th>\n",
       "      <th>artistName</th>\n",
       "      <th>trackName</th>\n",
       "      <th>msPlayed</th>\n",
       "    </tr>\n",
       "  </thead>\n",
       "  <tbody>\n",
       "    <tr>\n",
       "      <th>0</th>\n",
       "      <td>2020-12-16 00:01</td>\n",
       "      <td>Linkin Park</td>\n",
       "      <td>Iridescent (Version 2)</td>\n",
       "      <td>239441</td>\n",
       "    </tr>\n",
       "    <tr>\n",
       "      <th>1</th>\n",
       "      <td>2020-12-16 00:05</td>\n",
       "      <td>The Stone Roses</td>\n",
       "      <td>She Bangs the Drums - Remastered</td>\n",
       "      <td>232357</td>\n",
       "    </tr>\n",
       "    <tr>\n",
       "      <th>2</th>\n",
       "      <td>2020-12-16 00:08</td>\n",
       "      <td>ABBA</td>\n",
       "      <td>Waterloo</td>\n",
       "      <td>169007</td>\n",
       "    </tr>\n",
       "    <tr>\n",
       "      <th>3</th>\n",
       "      <td>2020-12-16 00:12</td>\n",
       "      <td>David Bowie</td>\n",
       "      <td>Starman - 2012 Remaster</td>\n",
       "      <td>254317</td>\n",
       "    </tr>\n",
       "    <tr>\n",
       "      <th>4</th>\n",
       "      <td>2020-12-16 00:16</td>\n",
       "      <td>AC/DC</td>\n",
       "      <td>You Shook Me All Night Long</td>\n",
       "      <td>210002</td>\n",
       "    </tr>\n",
       "  </tbody>\n",
       "</table>\n",
       "</div>"
      ],
      "text/plain": [
       "            endTime       artistName                         trackName  \\\n",
       "0  2020-12-16 00:01      Linkin Park            Iridescent (Version 2)   \n",
       "1  2020-12-16 00:05  The Stone Roses  She Bangs the Drums - Remastered   \n",
       "2  2020-12-16 00:08             ABBA                          Waterloo   \n",
       "3  2020-12-16 00:12      David Bowie           Starman - 2012 Remaster   \n",
       "4  2020-12-16 00:16            AC/DC       You Shook Me All Night Long   \n",
       "\n",
       "   msPlayed  \n",
       "0    239441  \n",
       "1    232357  \n",
       "2    169007  \n",
       "3    254317  \n",
       "4    210002  "
      ]
     },
     "execution_count": 6,
     "metadata": {},
     "output_type": "execute_result"
    }
   ],
   "source": [
    "df.head()"
   ]
  },
  {
   "cell_type": "markdown",
   "metadata": {},
   "source": [
    "Podcasts are mixed in with the data"
   ]
  },
  {
   "cell_type": "code",
   "execution_count": 7,
   "metadata": {},
   "outputs": [
    {
     "data": {
      "text/plain": [
       "(14666, 4)"
      ]
     },
     "execution_count": 7,
     "metadata": {},
     "output_type": "execute_result"
    }
   ],
   "source": [
    "df.shape"
   ]
  },
  {
   "cell_type": "markdown",
   "metadata": {},
   "source": [
    "#### Process data:"
   ]
  },
  {
   "cell_type": "code",
   "execution_count": 9,
   "metadata": {},
   "outputs": [],
   "source": [
    "df['endTime'] = pd.to_datetime(df['endTime'])  # convert endTime to datetime type"
   ]
  },
  {
   "cell_type": "code",
   "execution_count": 11,
   "metadata": {},
   "outputs": [],
   "source": [
    "df['minPlayed'] = df['msPlayed'] / 60000  # convert ms to mins"
   ]
  },
  {
   "cell_type": "code",
   "execution_count": 12,
   "metadata": {},
   "outputs": [
    {
     "data": {
      "text/html": [
       "<div>\n",
       "<style scoped>\n",
       "    .dataframe tbody tr th:only-of-type {\n",
       "        vertical-align: middle;\n",
       "    }\n",
       "\n",
       "    .dataframe tbody tr th {\n",
       "        vertical-align: top;\n",
       "    }\n",
       "\n",
       "    .dataframe thead th {\n",
       "        text-align: right;\n",
       "    }\n",
       "</style>\n",
       "<table border=\"1\" class=\"dataframe\">\n",
       "  <thead>\n",
       "    <tr style=\"text-align: right;\">\n",
       "      <th></th>\n",
       "      <th>endTime</th>\n",
       "      <th>artistName</th>\n",
       "      <th>trackName</th>\n",
       "      <th>msPlayed</th>\n",
       "      <th>minPlayed</th>\n",
       "    </tr>\n",
       "  </thead>\n",
       "  <tbody>\n",
       "    <tr>\n",
       "      <th>0</th>\n",
       "      <td>2020-12-16 00:01:00</td>\n",
       "      <td>Linkin Park</td>\n",
       "      <td>Iridescent (Version 2)</td>\n",
       "      <td>239441</td>\n",
       "      <td>3.990683</td>\n",
       "    </tr>\n",
       "    <tr>\n",
       "      <th>1</th>\n",
       "      <td>2020-12-16 00:05:00</td>\n",
       "      <td>The Stone Roses</td>\n",
       "      <td>She Bangs the Drums - Remastered</td>\n",
       "      <td>232357</td>\n",
       "      <td>3.872617</td>\n",
       "    </tr>\n",
       "    <tr>\n",
       "      <th>2</th>\n",
       "      <td>2020-12-16 00:08:00</td>\n",
       "      <td>ABBA</td>\n",
       "      <td>Waterloo</td>\n",
       "      <td>169007</td>\n",
       "      <td>2.816783</td>\n",
       "    </tr>\n",
       "    <tr>\n",
       "      <th>3</th>\n",
       "      <td>2020-12-16 00:12:00</td>\n",
       "      <td>David Bowie</td>\n",
       "      <td>Starman - 2012 Remaster</td>\n",
       "      <td>254317</td>\n",
       "      <td>4.238617</td>\n",
       "    </tr>\n",
       "    <tr>\n",
       "      <th>4</th>\n",
       "      <td>2020-12-16 00:16:00</td>\n",
       "      <td>AC/DC</td>\n",
       "      <td>You Shook Me All Night Long</td>\n",
       "      <td>210002</td>\n",
       "      <td>3.500033</td>\n",
       "    </tr>\n",
       "  </tbody>\n",
       "</table>\n",
       "</div>"
      ],
      "text/plain": [
       "              endTime       artistName                         trackName  \\\n",
       "0 2020-12-16 00:01:00      Linkin Park            Iridescent (Version 2)   \n",
       "1 2020-12-16 00:05:00  The Stone Roses  She Bangs the Drums - Remastered   \n",
       "2 2020-12-16 00:08:00             ABBA                          Waterloo   \n",
       "3 2020-12-16 00:12:00      David Bowie           Starman - 2012 Remaster   \n",
       "4 2020-12-16 00:16:00            AC/DC       You Shook Me All Night Long   \n",
       "\n",
       "   msPlayed  minPlayed  \n",
       "0    239441   3.990683  \n",
       "1    232357   3.872617  \n",
       "2    169007   2.816783  \n",
       "3    254317   4.238617  \n",
       "4    210002   3.500033  "
      ]
     },
     "execution_count": 12,
     "metadata": {},
     "output_type": "execute_result"
    }
   ],
   "source": [
    "df.head()"
   ]
  },
  {
   "cell_type": "markdown",
   "metadata": {},
   "source": [
    "#### Analysis:\n",
    "\n",
    "Total minutes:"
   ]
  },
  {
   "cell_type": "code",
   "execution_count": 16,
   "metadata": {},
   "outputs": [
    {
     "data": {
      "text/plain": [
       "49292.71933333334"
      ]
     },
     "execution_count": 16,
     "metadata": {},
     "output_type": "execute_result"
    }
   ],
   "source": [
    "df['minPlayed'].sum()"
   ]
  },
  {
   "cell_type": "markdown",
   "metadata": {},
   "source": [
    "Total artists/podcasts:"
   ]
  },
  {
   "cell_type": "code",
   "execution_count": 21,
   "metadata": {},
   "outputs": [
    {
     "data": {
      "text/plain": [
       "875"
      ]
     },
     "execution_count": 21,
     "metadata": {},
     "output_type": "execute_result"
    }
   ],
   "source": [
    "len(df['artistName'].unique())"
   ]
  },
  {
   "cell_type": "markdown",
   "metadata": {},
   "source": [
    "50 most-listed to artists/podcasts:"
   ]
  },
  {
   "cell_type": "code",
   "execution_count": 28,
   "metadata": {},
   "outputs": [
    {
     "data": {
      "text/plain": [
       "artistName\n",
       "The Steve Dangle Podcast                                    3806.704567\n",
       "Arctic Monkeys                                              1328.461750\n",
       "Red Hot Chili Peppers                                       1090.212033\n",
       "Tifo Football Podcast                                       1074.946683\n",
       "The Strokes                                                  772.775900\n",
       "WTF1 Podcast                                                 765.761733\n",
       "Pink Floyd                                                   736.741333\n",
       "Queen                                                        736.733950\n",
       "The Local Train                                              720.978433\n",
       "Eagles                                                       703.357617\n",
       "Electric Light Orchestra                                     480.857350\n",
       "Led Zeppelin                                                 468.202350\n",
       "Gov't Mule                                                   459.101833\n",
       "Eric Clapton                                                 432.253500\n",
       "Well There's Your Problem                                    417.656600\n",
       "Elton John                                                   414.407267\n",
       "The Beatles                                                  411.234650\n",
       "Dire Straits                                                 408.275117\n",
       "Foo Fighters                                                 407.684500\n",
       "Vulfpeck                                                     393.399267\n",
       "The Rolling Stones                                           370.811567\n",
       "AC/DC                                                        368.408950\n",
       "alt-J                                                        364.845017\n",
       "Lions Led By Donkeys Podcast                                 359.005817\n",
       "Football Cliches - A show about the language of football     351.906517\n",
       "Billy Joel                                                   350.784933\n",
       "Parikrama                                                    341.749800\n",
       "The Cricket Podcast                                          339.904717\n",
       "David Gilmour                                                337.898750\n",
       "Lynyrd Skynyrd                                               336.519083\n",
       "aswekeepsearching                                            330.603883\n",
       "Bruce Springsteen                                            329.846200\n",
       "Hozier                                                       325.525433\n",
       "Farhan Akhtar                                                314.882983\n",
       "John Mayer                                                   306.124183\n",
       "Fleetwood Mac                                                305.377917\n",
       "Serial                                                       303.887283\n",
       "The Weeknd                                                   302.539183\n",
       "The Knack                                                    296.815317\n",
       "Journey                                                      284.830633\n",
       "Green Day                                                    278.312017\n",
       "Allman Brothers Band                                         273.981817\n",
       "Phoebe Reads a Mystery                                       270.424433\n",
       "Brasstracks                                                  269.664017\n",
       "Glass Animals                                                255.770583\n",
       "Masego                                                       253.674817\n",
       "blink-182                                                    248.448467\n",
       "Santana                                                      247.725350\n",
       "Foster The People                                            245.750583\n",
       "Yellow Days                                                  242.577033\n",
       "Name: minPlayed, dtype: float64"
      ]
     },
     "execution_count": 28,
     "metadata": {},
     "output_type": "execute_result"
    }
   ],
   "source": [
    "df.groupby(['artistName'])['minPlayed'].agg(sum).sort_values(ascending = False)[:50]"
   ]
  }
 ],
 "metadata": {
  "kernelspec": {
   "display_name": "Python 3",
   "language": "python",
   "name": "python3"
  },
  "language_info": {
   "codemirror_mode": {
    "name": "ipython",
    "version": 3
   },
   "file_extension": ".py",
   "mimetype": "text/x-python",
   "name": "python",
   "nbconvert_exporter": "python",
   "pygments_lexer": "ipython3",
   "version": "3.8.2"
  }
 },
 "nbformat": 4,
 "nbformat_minor": 4
}
