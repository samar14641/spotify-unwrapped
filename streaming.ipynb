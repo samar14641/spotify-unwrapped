{
 "cells": [
  {
   "cell_type": "markdown",
   "metadata": {},
   "source": [
    "#### Import modules:"
   ]
  },
  {
   "cell_type": "code",
   "execution_count": 1,
   "metadata": {},
   "outputs": [],
   "source": [
    "import matplotlib.pyplot as plt\n",
    "import numpy as np\n",
    "import pandas as pd"
   ]
  },
  {
   "cell_type": "markdown",
   "metadata": {},
   "source": [
    "#### Read data:"
   ]
  },
  {
   "cell_type": "code",
   "execution_count": 19,
   "metadata": {},
   "outputs": [],
   "source": [
    "df = pd.read_json('./MyData/StreamingHistory0.json', orient = 'records').append(pd.read_json('./MyData/StreamingHistory1.json', orient = 'records'))"
   ]
  },
  {
   "cell_type": "code",
   "execution_count": 20,
   "metadata": {},
   "outputs": [
    {
     "data": {
      "text/html": [
       "<div>\n",
       "<style scoped>\n",
       "    .dataframe tbody tr th:only-of-type {\n",
       "        vertical-align: middle;\n",
       "    }\n",
       "\n",
       "    .dataframe tbody tr th {\n",
       "        vertical-align: top;\n",
       "    }\n",
       "\n",
       "    .dataframe thead th {\n",
       "        text-align: right;\n",
       "    }\n",
       "</style>\n",
       "<table border=\"1\" class=\"dataframe\">\n",
       "  <thead>\n",
       "    <tr style=\"text-align: right;\">\n",
       "      <th></th>\n",
       "      <th>endTime</th>\n",
       "      <th>artistName</th>\n",
       "      <th>trackName</th>\n",
       "      <th>msPlayed</th>\n",
       "    </tr>\n",
       "  </thead>\n",
       "  <tbody>\n",
       "    <tr>\n",
       "      <th>0</th>\n",
       "      <td>2020-12-16 00:01</td>\n",
       "      <td>Linkin Park</td>\n",
       "      <td>Iridescent (Version 2)</td>\n",
       "      <td>239441</td>\n",
       "    </tr>\n",
       "    <tr>\n",
       "      <th>1</th>\n",
       "      <td>2020-12-16 00:05</td>\n",
       "      <td>The Stone Roses</td>\n",
       "      <td>She Bangs the Drums - Remastered</td>\n",
       "      <td>232357</td>\n",
       "    </tr>\n",
       "    <tr>\n",
       "      <th>2</th>\n",
       "      <td>2020-12-16 00:08</td>\n",
       "      <td>ABBA</td>\n",
       "      <td>Waterloo</td>\n",
       "      <td>169007</td>\n",
       "    </tr>\n",
       "    <tr>\n",
       "      <th>3</th>\n",
       "      <td>2020-12-16 00:12</td>\n",
       "      <td>David Bowie</td>\n",
       "      <td>Starman - 2012 Remaster</td>\n",
       "      <td>254317</td>\n",
       "    </tr>\n",
       "    <tr>\n",
       "      <th>4</th>\n",
       "      <td>2020-12-16 00:16</td>\n",
       "      <td>AC/DC</td>\n",
       "      <td>You Shook Me All Night Long</td>\n",
       "      <td>210002</td>\n",
       "    </tr>\n",
       "  </tbody>\n",
       "</table>\n",
       "</div>"
      ],
      "text/plain": [
       "            endTime       artistName                         trackName  \\\n",
       "0  2020-12-16 00:01      Linkin Park            Iridescent (Version 2)   \n",
       "1  2020-12-16 00:05  The Stone Roses  She Bangs the Drums - Remastered   \n",
       "2  2020-12-16 00:08             ABBA                          Waterloo   \n",
       "3  2020-12-16 00:12      David Bowie           Starman - 2012 Remaster   \n",
       "4  2020-12-16 00:16            AC/DC       You Shook Me All Night Long   \n",
       "\n",
       "   msPlayed  \n",
       "0    239441  \n",
       "1    232357  \n",
       "2    169007  \n",
       "3    254317  \n",
       "4    210002  "
      ]
     },
     "execution_count": 20,
     "metadata": {},
     "output_type": "execute_result"
    }
   ],
   "source": [
    "df.head()"
   ]
  },
  {
   "cell_type": "markdown",
   "metadata": {},
   "source": [
    "Podcasts are mixed in with the data"
   ]
  },
  {
   "cell_type": "code",
   "execution_count": 21,
   "metadata": {},
   "outputs": [
    {
     "data": {
      "text/plain": [
       "(14666, 4)"
      ]
     },
     "execution_count": 21,
     "metadata": {},
     "output_type": "execute_result"
    }
   ],
   "source": [
    "df.shape"
   ]
  },
  {
   "cell_type": "markdown",
   "metadata": {},
   "source": [
    "#### Process data:"
   ]
  },
  {
   "cell_type": "code",
   "execution_count": 22,
   "metadata": {},
   "outputs": [],
   "source": [
    "podcast_filter = [\n",
    "    'Armchair Expert with Dax Shepard',\n",
    "    'Extremities',\n",
    "    'F1: Beyond The Grid',\n",
    "    'Fighter Pilot Podcast',\n",
    "    'Football Cliches - A show about the language of football',\n",
    "    \"Harry Potter and the Philosopher's Stone\",\n",
    "    'Lions Led By Donkeys Podcast',\n",
    "    'Phoebe Reads a Mystery',\n",
    "    'Serial',\n",
    "    'Talking Bull',\n",
    "    'The Athletic FPL Podcast',\n",
    "    'The Cricket Podcast',\n",
    "    'The Steve Dangle Podcast',\n",
    "    'Tifo Football Podcast',\n",
    "    'WTF1 Podcast',\n",
    "    \"Well There's Your Problem\"\n",
    "]\n",
    "\n",
    "df = df[~df['artistName'].isin(podcast_filter)]"
   ]
  },
  {
   "cell_type": "code",
   "execution_count": 23,
   "metadata": {},
   "outputs": [],
   "source": [
    "df['endTime'] = pd.to_datetime(df['endTime'])  # convert endTime to datetime type"
   ]
  },
  {
   "cell_type": "code",
   "execution_count": 24,
   "metadata": {},
   "outputs": [],
   "source": [
    "df['date'] = df['endTime'].dt.date  # extract date from endTime"
   ]
  },
  {
   "cell_type": "code",
   "execution_count": 25,
   "metadata": {},
   "outputs": [],
   "source": [
    "df['minPlayed'] = df['msPlayed'] / 60000  # convert ms to mins"
   ]
  },
  {
   "cell_type": "code",
   "execution_count": 26,
   "metadata": {},
   "outputs": [
    {
     "data": {
      "text/html": [
       "<div>\n",
       "<style scoped>\n",
       "    .dataframe tbody tr th:only-of-type {\n",
       "        vertical-align: middle;\n",
       "    }\n",
       "\n",
       "    .dataframe tbody tr th {\n",
       "        vertical-align: top;\n",
       "    }\n",
       "\n",
       "    .dataframe thead th {\n",
       "        text-align: right;\n",
       "    }\n",
       "</style>\n",
       "<table border=\"1\" class=\"dataframe\">\n",
       "  <thead>\n",
       "    <tr style=\"text-align: right;\">\n",
       "      <th></th>\n",
       "      <th>endTime</th>\n",
       "      <th>artistName</th>\n",
       "      <th>trackName</th>\n",
       "      <th>msPlayed</th>\n",
       "      <th>date</th>\n",
       "      <th>minPlayed</th>\n",
       "    </tr>\n",
       "  </thead>\n",
       "  <tbody>\n",
       "    <tr>\n",
       "      <th>0</th>\n",
       "      <td>2020-12-16 00:01:00</td>\n",
       "      <td>Linkin Park</td>\n",
       "      <td>Iridescent (Version 2)</td>\n",
       "      <td>239441</td>\n",
       "      <td>2020-12-16</td>\n",
       "      <td>3.990683</td>\n",
       "    </tr>\n",
       "    <tr>\n",
       "      <th>1</th>\n",
       "      <td>2020-12-16 00:05:00</td>\n",
       "      <td>The Stone Roses</td>\n",
       "      <td>She Bangs the Drums - Remastered</td>\n",
       "      <td>232357</td>\n",
       "      <td>2020-12-16</td>\n",
       "      <td>3.872617</td>\n",
       "    </tr>\n",
       "    <tr>\n",
       "      <th>2</th>\n",
       "      <td>2020-12-16 00:08:00</td>\n",
       "      <td>ABBA</td>\n",
       "      <td>Waterloo</td>\n",
       "      <td>169007</td>\n",
       "      <td>2020-12-16</td>\n",
       "      <td>2.816783</td>\n",
       "    </tr>\n",
       "    <tr>\n",
       "      <th>3</th>\n",
       "      <td>2020-12-16 00:12:00</td>\n",
       "      <td>David Bowie</td>\n",
       "      <td>Starman - 2012 Remaster</td>\n",
       "      <td>254317</td>\n",
       "      <td>2020-12-16</td>\n",
       "      <td>4.238617</td>\n",
       "    </tr>\n",
       "    <tr>\n",
       "      <th>4</th>\n",
       "      <td>2020-12-16 00:16:00</td>\n",
       "      <td>AC/DC</td>\n",
       "      <td>You Shook Me All Night Long</td>\n",
       "      <td>210002</td>\n",
       "      <td>2020-12-16</td>\n",
       "      <td>3.500033</td>\n",
       "    </tr>\n",
       "  </tbody>\n",
       "</table>\n",
       "</div>"
      ],
      "text/plain": [
       "              endTime       artistName                         trackName  \\\n",
       "0 2020-12-16 00:01:00      Linkin Park            Iridescent (Version 2)   \n",
       "1 2020-12-16 00:05:00  The Stone Roses  She Bangs the Drums - Remastered   \n",
       "2 2020-12-16 00:08:00             ABBA                          Waterloo   \n",
       "3 2020-12-16 00:12:00      David Bowie           Starman - 2012 Remaster   \n",
       "4 2020-12-16 00:16:00            AC/DC       You Shook Me All Night Long   \n",
       "\n",
       "   msPlayed        date  minPlayed  \n",
       "0    239441  2020-12-16   3.990683  \n",
       "1    232357  2020-12-16   3.872617  \n",
       "2    169007  2020-12-16   2.816783  \n",
       "3    254317  2020-12-16   4.238617  \n",
       "4    210002  2020-12-16   3.500033  "
      ]
     },
     "execution_count": 26,
     "metadata": {},
     "output_type": "execute_result"
    }
   ],
   "source": [
    "df.head()"
   ]
  },
  {
   "cell_type": "code",
   "execution_count": 27,
   "metadata": {},
   "outputs": [
    {
     "data": {
      "text/plain": [
       "(14223, 6)"
      ]
     },
     "execution_count": 27,
     "metadata": {},
     "output_type": "execute_result"
    }
   ],
   "source": [
    "df.shape"
   ]
  },
  {
   "cell_type": "markdown",
   "metadata": {},
   "source": [
    "#### Analysis:\n",
    "\n",
    "Total minutes:"
   ]
  },
  {
   "cell_type": "code",
   "execution_count": 28,
   "metadata": {},
   "outputs": [
    {
     "data": {
      "text/plain": [
       "41321.59218333333"
      ]
     },
     "execution_count": 28,
     "metadata": {},
     "output_type": "execute_result"
    }
   ],
   "source": [
    "df['minPlayed'].sum()"
   ]
  },
  {
   "cell_type": "markdown",
   "metadata": {},
   "source": [
    "Total artists/podcasts:"
   ]
  },
  {
   "cell_type": "code",
   "execution_count": 29,
   "metadata": {},
   "outputs": [
    {
     "data": {
      "text/plain": [
       "860"
      ]
     },
     "execution_count": 29,
     "metadata": {},
     "output_type": "execute_result"
    }
   ],
   "source": [
    "len(df['artistName'].unique())"
   ]
  },
  {
   "cell_type": "markdown",
   "metadata": {},
   "source": [
    "50 most-listed to artists/podcasts:"
   ]
  },
  {
   "cell_type": "code",
   "execution_count": 30,
   "metadata": {},
   "outputs": [
    {
     "data": {
      "text/plain": [
       "artistName\n",
       "Arctic Monkeys                 1328.461750\n",
       "Red Hot Chili Peppers          1090.212033\n",
       "The Strokes                     772.775900\n",
       "Pink Floyd                      736.741333\n",
       "Queen                           736.733950\n",
       "The Local Train                 720.978433\n",
       "Eagles                          703.357617\n",
       "Electric Light Orchestra        480.857350\n",
       "Led Zeppelin                    468.202350\n",
       "Gov't Mule                      459.101833\n",
       "Eric Clapton                    432.253500\n",
       "Elton John                      414.407267\n",
       "The Beatles                     411.234650\n",
       "Dire Straits                    408.275117\n",
       "Foo Fighters                    407.684500\n",
       "Vulfpeck                        393.399267\n",
       "The Rolling Stones              370.811567\n",
       "AC/DC                           368.408950\n",
       "alt-J                           364.845017\n",
       "Billy Joel                      350.784933\n",
       "Parikrama                       341.749800\n",
       "David Gilmour                   337.898750\n",
       "Lynyrd Skynyrd                  336.519083\n",
       "aswekeepsearching               330.603883\n",
       "Bruce Springsteen               329.846200\n",
       "Hozier                          325.525433\n",
       "Farhan Akhtar                   314.882983\n",
       "John Mayer                      306.124183\n",
       "Fleetwood Mac                   305.377917\n",
       "The Weeknd                      302.539183\n",
       "The Knack                       296.815317\n",
       "Journey                         284.830633\n",
       "Green Day                       278.312017\n",
       "Allman Brothers Band            273.981817\n",
       "Brasstracks                     269.664017\n",
       "Glass Animals                   255.770583\n",
       "Masego                          253.674817\n",
       "blink-182                       248.448467\n",
       "Santana                         247.725350\n",
       "Foster The People               245.750583\n",
       "Yellow Days                     242.577033\n",
       "St. Paul & The Broken Bones     238.378700\n",
       "Surfaces                        221.346967\n",
       "Stereophonics                   220.814617\n",
       "The Goo Goo Dolls               218.854367\n",
       "Christine and the Queens        213.606300\n",
       "Guns N' Roses                   212.385233\n",
       "Bon Iver                        211.946567\n",
       "Oasis                           210.345667\n",
       "When Chai Met Toast             209.274233\n",
       "Name: minPlayed, dtype: float64"
      ]
     },
     "execution_count": 30,
     "metadata": {},
     "output_type": "execute_result"
    }
   ],
   "source": [
    "df.groupby(['artistName'])['minPlayed'].agg(sum).sort_values(ascending = False)[:50]"
   ]
  },
  {
   "cell_type": "code",
   "execution_count": 40,
   "metadata": {},
   "outputs": [
    {
     "data": {
      "text/plain": [
       "date\n",
       "2021-07-14    6.913592\n",
       "2021-06-08    5.850784\n",
       "2021-07-21    5.794518\n",
       "2021-08-16    5.568048\n",
       "2021-11-12    5.493197\n",
       "                ...   \n",
       "2021-07-10    0.099211\n",
       "2021-01-12    0.065082\n",
       "2021-10-03    0.063100\n",
       "2021-08-11    0.001557\n",
       "2021-08-06    0.001142\n",
       "Name: minPlayed, Length: 348, dtype: float64"
      ]
     },
     "execution_count": 40,
     "metadata": {},
     "output_type": "execute_result"
    }
   ],
   "source": [
    "# df.groupby(['date']).size().sort_values(ascending = False)\n",
    "df.groupby(['date'])['minPlayed'].agg(sum).sort_values(ascending = False)"
   ]
  }
 ],
 "metadata": {
  "kernelspec": {
   "display_name": "Python 3",
   "language": "python",
   "name": "python3"
  },
  "language_info": {
   "codemirror_mode": {
    "name": "ipython",
    "version": 3
   },
   "file_extension": ".py",
   "mimetype": "text/x-python",
   "name": "python",
   "nbconvert_exporter": "python",
   "pygments_lexer": "ipython3",
   "version": "3.8.2"
  }
 },
 "nbformat": 4,
 "nbformat_minor": 4
}
